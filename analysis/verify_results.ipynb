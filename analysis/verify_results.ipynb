{
 "cells": [
  {
   "cell_type": "code",
   "id": "initial_id",
   "metadata": {
    "collapsed": true,
    "ExecuteTime": {
     "end_time": "2025-03-03T20:21:46.097729Z",
     "start_time": "2025-03-03T20:21:46.095464Z"
    }
   },
   "source": [
    "import relaqs.api.gates as gates\n",
    "import numpy as np\n",
    "import pandas as pd\n",
    "import os\n",
    "from datetime import datetime\n",
    "from qutip.superoperator import liouvillian, spre, spost\n",
    "from qutip import Qobj, tensor, Bloch, basis, sigmax, sigmay, sigmaz, expect\n",
    "from qutip.operators import *\n",
    "import matplotlib.pyplot as plt\n",
    "from relaqs.api.utils import *\n",
    "from scipy.linalg import expm\n",
    "import scipy.linalg as la"
   ],
   "outputs": [],
   "execution_count": 211
  },
  {
   "metadata": {
    "ExecuteTime": {
     "end_time": "2025-03-03T20:21:46.440177Z",
     "start_time": "2025-03-03T20:21:46.437613Z"
    }
   },
   "cell_type": "code",
   "source": [
    "I = gates.I().get_matrix()\n",
    "X = gates.X().get_matrix()\n",
    "Y = gates.Y().get_matrix()\n",
    "Z = gates.Z().get_matrix()"
   ],
   "id": "af6a9848675f8dd0",
   "outputs": [],
   "execution_count": 212
  },
  {
   "metadata": {
    "ExecuteTime": {
     "end_time": "2025-03-03T20:21:46.945171Z",
     "start_time": "2025-03-03T20:21:46.943312Z"
    }
   },
   "cell_type": "code",
   "source": [
    "steps_per_Haar = 1\n",
    "num_haar = 1\n",
    "final_time = 35.5556E-9 #in seconds\n",
    "gamma_phase_max = 1.1675 * np.pi\n",
    "gamma_magnitude_max = 1.8 * np.pi / final_time / steps_per_Haar\n",
    "alpha_max = 0.05E9  # detuning of the control pulse in Hz\n",
    "U_initial = I"
   ],
   "id": "2df331ab0d383f60",
   "outputs": [],
   "execution_count": 213
  },
  {
   "metadata": {
    "ExecuteTime": {
     "end_time": "2025-03-03T21:38:02.591293Z",
     "start_time": "2025-03-03T21:38:02.585314Z"
    }
   },
   "cell_type": "code",
   "source": [
    "def compare_actions_U_target(action,u_target):\n",
    "    # gamma_magnitude_action, gamma_phase_action, alpha_action = action\n",
    "    # action = [0.18149161,0.97111285,-0.45888507]\n",
    "    # u_target = [[-0.26685747-0.43349986j ,0.36620598-0.77894681j],\n",
    "    #             [-0.36620598-0.77894681j ,-0.26685747+0.43349986j]]\n",
    "\n",
    "    num_time_bins = 2 ** (steps_per_Haar - 1) # Haar number decides the number of time bins\n",
    "    # Compute actual control parameters\n",
    "    gamma_magnitude = gamma_magnitude_max/2 * (action[0]+1)\n",
    "    gamma_phase = gamma_phase_max * action[1]\n",
    "    alpha = alpha_max * action[2]\n",
    "\n",
    "    H_array = []\n",
    "    H_tot = []\n",
    "    U_array = []\n",
    "    # print(f\"alpha: {alpha}\\n\")\n",
    "    # print(f\"U_target: {u_target}\\n\")\n",
    "\n",
    "    # detuing_list = [944.5591192245483, 20663.88058757782, 7009.451946258545, 3041.243444442749, 2786.565857887268, 15716.49913406372, 3330.534860610962, 3041.243444442749, 3041.243444442749]\n",
    "    # Construct the Hamiltonian\n",
    "    psi_0 = np.array([[1], [0]], dtype=complex)  # |0⟩ state\n",
    "    # psi_0 = basis(2, 0)\n",
    "    # bloch_points = []\n",
    "    H = alpha*Z + gamma_magnitude*(np.cos(gamma_phase)*X + np.sin(gamma_phase)*Y)\n",
    "    H_array.append(H)\n",
    "    H_tot = []\n",
    "    for ii, H_elem in enumerate(H_array):\n",
    "        for jj in range(0, num_time_bins):\n",
    "            Haar_num = num_haar - np.floor(ii / steps_per_Haar) # Haar_num: label which Haar wavelet, current_Haar_num: order in the array\n",
    "            factor = (-1) ** np.floor(jj / (2 ** (Haar_num - 1)))\n",
    "            if ii > 0:\n",
    "                H_tot[jj] += factor * H_elem\n",
    "            else:\n",
    "                H_tot.append(factor * H_elem)\n",
    "\n",
    "    U = U_initial.copy()\n",
    "    for jj in range(0, num_time_bins):\n",
    "        Ut = la.expm(-1j * final_time / num_time_bins * H_tot[jj])\n",
    "        U = Ut @ U\n",
    "    U_array.append(U)\n",
    "\n",
    "    vector = np.matmul(u_target, np.array([[1], [0]]))  # Apply gate to |0⟩ = [1, 0]^T\n",
    "    q_obj = qutip.Qobj(vector)  # Convert the resulting vector to a QuTiP quantum object\n",
    "    bloch_sphere = Bloch()\n",
    "    bloch_sphere.vector_color = ['m']  # magenta for clarity\n",
    "    bloch_sphere.point_color = ['r']\n",
    "    bloch_sphere.add_states(q_obj)\n",
    "\n",
    "    psi_final = U @ psi_0\n",
    "    rho = psi_final @ psi_final.conj().T\n",
    "\n",
    "    x = np.real(np.trace(rho @ X))\n",
    "    y = np.real(np.trace(rho @ Y))\n",
    "    z = np.real(np.trace(rho @ Z))\n",
    "    bloch_sphere.add_points(np.array([x,y,z]).T)\n",
    "\n",
    "    bloch_sphere.show()\n",
    "\n",
    "    # for detuning in detuing_list:\n",
    "    #     H = (detuning + alpha)*Z + gamma_magnitude*(np.cos(gamma_phase)*X + np.sin(gamma_phase)*Y)\n",
    "    # # H = alpha * sigmaz() + gamma_magnitude * (np.cos(gamma_phase) * sigmax()\n",
    "    # #                                      + np.sin(gamma_phase) * sigmay())\n",
    "    #\n",
    "    #     # Compute Unitary Evolution: U = exp(-i H t)\n",
    "    #     U = expm(-1j * H * final_time)\n",
    "    #     # U = (-1j * H * final_time).expm()\n",
    "    #     # print(f\"Generated U:\\n{U}\")\n",
    "    #\n",
    "    #     # Apply U to initial state |0⟩\n",
    "    #     psi_final = U @ psi_0\n",
    "    #     # psi_final = U * psi_0  # Evolve under U\n",
    "    #\n",
    "    #     # # Compute the Density Matrix: ρ = |ψ⟩⟨ψ|\n",
    "    #     rho = psi_final @ psi_final.conj().T\n",
    "    #\n",
    "    #     # Compute Bloch vector components: (x, y, z)\n",
    "    #     x = np.real(np.trace(rho @ X))\n",
    "    #     y = np.real(np.trace(rho @ Y))\n",
    "    #     z = np.real(np.trace(rho @ Z))\n",
    "    #     # x = expect(sigmax(), psi_final)\n",
    "    #     # y = expect(sigmay(), psi_final)\n",
    "    #     # z = expect(sigmaz(), psi_final)\n",
    "    #     bloch_points.append(np.array([x,y,z]))\n",
    "    #\n",
    "    #\n",
    "    #\n",
    "    # vector = np.matmul(u_target, np.array([[1], [0]]))  # Apply gate to |0⟩ = [1, 0]^T\n",
    "    # q_obj = qutip.Qobj(vector)  # Convert the resulting vector to a QuTiP quantum object\n",
    "    #\n",
    "    #\n",
    "    # bloch_sphere = Bloch()\n",
    "    # bloch_sphere.vector_color = ['m']  # Magenta for clarity\n",
    "    #\n",
    "    # # Add Bloch vectors\n",
    "    # for point in bloch_points:\n",
    "    #     bloch_sphere.add_points(point.T)  # Transpose needed for correct format\n",
    "    # bloch_sphere.add_states(q_obj)\n",
    "    # bloch_sphere.add_states(qutip.Qobj(psi_final))\n",
    "\n",
    "    # # Prevent cropping by modifying rendering settings\n",
    "    # bloch_sphere.frame_alpha = 0.3  # Make the Bloch sphere frame slightly transparent\n",
    "    # bloch_sphere.font_size = 10  # Reduce font size to prevent label overlap\n",
    "    # bloch_sphere.scale = [1.0]  # Maintain default scaling to avoid zooming issues\n",
    "\n",
    "    # Show Bloch sphere\n",
    "    # bloch_sphere.view = [120,30]\n",
    "    bloch_sphere.show()\n",
    "\n"
   ],
   "id": "4aa7321753613e06",
   "outputs": [],
   "execution_count": 219
  },
  {
   "metadata": {
    "ExecuteTime": {
     "end_time": "2025-03-03T21:38:02.908214Z",
     "start_time": "2025-03-03T21:38:02.905610Z"
    }
   },
   "cell_type": "code",
   "source": [
    "def unitary_to_superoperator(U):\n",
    "    S1 = np.kron(U.conj(), U)\n",
    "    S2 = np.kron(U, U.conj())\n",
    "    S3 = np.array((spre(Qobj(U)) * spost(Qobj(U))).data.toarray())\n",
    "    S4 = np.array((spre(Qobj(U)) * spost(Qobj(U.conj()))).data.toarray())\n",
    "    return S1, S2, S3, S4"
   ],
   "id": "9a7eb70eefd5b051",
   "outputs": [],
   "execution_count": 220
  },
  {
   "metadata": {
    "ExecuteTime": {
     "end_time": "2025-03-03T21:38:03.098613Z",
     "start_time": "2025-03-03T21:38:03.096750Z"
    }
   },
   "cell_type": "code",
   "source": [
    "def process_fidelity(S1, S2):\n",
    "    d = int(np.sqrt(S1.shape[0]))  # Extract system dimension\n",
    "    return np.abs(np.trace(S1.conj().T @ S2)) / d**2"
   ],
   "id": "49afcc31640c9cc2",
   "outputs": [],
   "execution_count": 221
  },
  {
   "metadata": {
    "ExecuteTime": {
     "end_time": "2025-03-03T21:38:03.268862Z",
     "start_time": "2025-03-03T21:38:03.266901Z"
    }
   },
   "cell_type": "code",
   "source": [
    "def eigenvalue_distance(S1, S2):\n",
    "    eigs1 = np.linalg.eigvals(S1)\n",
    "    eigs2 = np.linalg.eigvals(S2)\n",
    "    return np.linalg.norm(eigs1 - eigs2)\n"
   ],
   "id": "f8030183e7e52ae2",
   "outputs": [],
   "execution_count": 222
  },
  {
   "metadata": {
    "ExecuteTime": {
     "end_time": "2025-03-03T21:38:03.423370Z",
     "start_time": "2025-03-03T21:38:03.421553Z"
    }
   },
   "cell_type": "code",
   "source": [
    "def is_close_superoperator(S1, S2, tol=1e-6):\n",
    "    return np.allclose(S1, S2, atol=tol)"
   ],
   "id": "3bf453a5c52db881",
   "outputs": [],
   "execution_count": 223
  },
  {
   "metadata": {
    "ExecuteTime": {
     "end_time": "2025-03-03T21:38:03.763461Z",
     "start_time": "2025-03-03T21:38:03.761728Z"
    }
   },
   "cell_type": "code",
   "source": [
    "def frobenius_distance(S1, S2):\n",
    "    return np.linalg.norm(S1 - S2, ord='fro')  # Frobenius norm"
   ],
   "id": "f5f17b1d419bff41",
   "outputs": [],
   "execution_count": 224
  },
  {
   "metadata": {
    "ExecuteTime": {
     "end_time": "2025-03-09T20:26:27.608176Z",
     "start_time": "2025-03-09T20:26:27.536813Z"
    }
   },
   "cell_type": "code",
   "source": [
    "data_path = '/Users/vishchaudhary/rl-repo/results/2025-03-07_00-32-49/RandomSU2/RandomSU2_env_data.csv'\n",
    "df = pd.read_csv(data_path,header = 0)\n",
    "\n",
    "fidelities = df.iloc[:, 0]\n",
    "print(fidelities.mean())\n",
    "preprocessed_actions = df.iloc[:, 2].apply(preprocess_actions)\n",
    "preprocessed_operator = df.iloc[:, 3].apply(preprocess_matrix_string)\n",
    "preprocessed_target_operator = df.iloc[:, 4].apply(preprocess_matrix_string)\n",
    "preprocessed_U_target = df.iloc[:, 5].apply(preprocess_matrix_string)\n",
    "\n",
    "actions_array = [np.array(eval(m)) for m in preprocessed_actions]\n",
    "u_target_list = [np.array(eval(m)) for m in preprocessed_U_target]\n",
    "u_target_list = np.array(u_target_list)\n",
    "\n",
    "operator = [np.array(eval(m)) for m in preprocessed_operator]\n",
    "operator = np.array(operator)\n",
    "\n",
    "target_operator = [np.array(eval(m)) for m in preprocessed_target_operator]\n",
    "target_operator = np.array(target_operator)\n",
    "\n",
    "# for i in range(10):\n",
    "#     if fidelities[i] > 0.99:\n",
    "#         print(fidelities[i])\n",
    "#         # print(u_target_list[i])\n",
    "#         # print(f\"{check_unitary(u_target_list[i])}\")\n",
    "#         # S1, S2, S3, S4 = unitary_to_superoperator(u_target_list[i])\n",
    "#         # print(f\"S1:\\n{S1}\\nS2:\\n{S2}\\nS3:\\n{S3}\\nS4:\\n{S4}\\n\")\n",
    "#\n",
    "#         # print(f\"Process Fidelity(if close to 1 gates are close): {process_fidelity(operator[i], target_operator[i])}\")\n",
    "#         # print(f\"Eigenvalue Distance(Smaller values indicate greater similarity): {eigenvalue_distance(operator[i], target_operator[i])}\")\n",
    "#         # print(f\"Frobenius Norm Distance: {frobenius_distance(operator[i], target_operator[i])}\")\n",
    "#         # psi = np.random.rand(4, 1) + 1j * np.random.rand(4, 1)\n",
    "#         # psi /= np.linalg.norm(psi)  # Normalize random state\n",
    "#         #\n",
    "#         # psi1 = operator[i] @ psi\n",
    "#         # psi2 = target_operator @ psi\n",
    "#         #\n",
    "#         # state_diff = np.linalg.norm(psi1 - psi2)\n",
    "#         # print(f\"State transformation difference: {state_diff}\\n\")\n",
    "#         # if is_close_superoperator(operator[i], target_operator[i]):\n",
    "#         #     print(\"Superoperators are close!\")\n",
    "#         # else:\n",
    "#         #     print(\"Superoperators are different.\")\n",
    "#         compare_actions_U_target(actions_array[i], u_target_list[i])\n",
    "#         print(f\"\\n------------------------------------------------\\n\")\n"
   ],
   "id": "444d244fce40a313",
   "outputs": [
    {
     "name": "stdout",
     "output_type": "stream",
     "text": [
      "0.9784701917809653\n"
     ]
    }
   ],
   "execution_count": 231
  },
  {
   "metadata": {},
   "cell_type": "code",
   "outputs": [],
   "execution_count": null,
   "source": "",
   "id": "1b9efa9c57045695"
  }
 ],
 "metadata": {
  "kernelspec": {
   "display_name": "Python 3",
   "language": "python",
   "name": "python3"
  },
  "language_info": {
   "codemirror_mode": {
    "name": "ipython",
    "version": 2
   },
   "file_extension": ".py",
   "mimetype": "text/x-python",
   "name": "python",
   "nbconvert_exporter": "python",
   "pygments_lexer": "ipython2",
   "version": "2.7.6"
  }
 },
 "nbformat": 4,
 "nbformat_minor": 5
}
